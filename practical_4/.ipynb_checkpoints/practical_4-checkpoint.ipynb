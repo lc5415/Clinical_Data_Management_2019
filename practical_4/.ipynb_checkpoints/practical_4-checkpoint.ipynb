{
 "cells": [
  {
   "cell_type": "markdown",
   "metadata": {},
   "source": [
    "# Practical 4: Hash tables\n",
    "\n",
    "In this practical, you will learn how to implement a simple hash table using python. The hash table and hash function are commonly used in data management, including creating indexes for databases and generating pseudonyms for anonymisation.\n",
    "\n",
    "### 1. Code completion\n",
    "\n",
    "You are expected to fill in part of the code in the HashTable class. Then you will use the table to insert index entries and query index entries with search keys.\n",
    "\n",
    "The functions that you need to complete include:\n",
    "\n",
    "* `hash_func(key, value)`: the hash function that maps an integer key into a hash code.\n",
    "* `set(key, value)`: Insert a (key, value) pair into a bucket in the hash table. If the bucket is not empty, append the entry at the end of the bucket.\n",
    "* `get(key)`: Given a search key, return the (key, value) pairs with the same key.\n",
    "* `remove(key)` : Given a search key, remove the entries with the same key.\n",
    "\n",
    "You will use `list` for implementing the container for key-value pairs, which are `tuples` in Python."
   ]
  },
  {
   "cell_type": "code",
   "execution_count": 10,
   "metadata": {},
   "outputs": [],
   "source": [
    "class HashTable:\n",
    "    def __init__(self, table_size):\n",
    "        # Initialise an empty hash table with a fixed table size\n",
    "        self.table_size = table_size\n",
    "        self.table = [[]] * self.table_size\n",
    "\n",
    "    def hash_func(self, key):\n",
    "        # Hash function for an integer key\n",
    "        # Complete code\n",
    "        hash_code = key%(self.table_size)\n",
    "        return hash_code\n",
    "\n",
    "    def set(self, key, value):\n",
    "        # Insert a pair of key and value into the table\n",
    "        hash_code = self.hash_func(key)\n",
    "        bucket = self.table[hash_code]\n",
    "    \n",
    "        # If the bucket is empty, set the key and value.\n",
    "        # Otherwise, append the key and value.\n",
    "        # Complete code\n",
    "        if not bucket:\n",
    "            self.table[hash_code] = [(key,value)]\n",
    "        else: \n",
    "            self.table[hash_code].append((key,value))\n",
    "            \n",
    "        \n",
    "\n",
    "    def get(self, key):\n",
    "        # Get the item with the search key\n",
    "        hash_code = self.hash_func(key)\n",
    "        bucket = self.table[hash_code]\n",
    "        \n",
    "        # Go through the items in the bucket\n",
    "        # Complete code\n",
    "        return bucket\n",
    "        \n",
    "    \n",
    "    def remove(self, key):\n",
    "        # Remove the item with the search key\n",
    "        hash_code = self.hash_func(key)\n",
    "        bucket = self.table[hash_code]\n",
    "        \n",
    "        # Go through the items in the bucket\n",
    "        # Complete code\n",
    "  \n",
    "        # with a simple for loop the elements removed are updating the\n",
    "        # indexing of the lists therefore every other element is not gonna be \n",
    "        # removed\n",
    "        \n",
    "        #for k,v in bucket:\n",
    "         #   if k == key:\n",
    "          #      bucket.remove((k,v))\n",
    "          \n",
    "        #Instead we create an extra bucket, which is the one to clean\n",
    "        # and then clean all the tuples in the main bucket that match with \n",
    "        # the tuples in the bucket to clean\n",
    "        bucket_to_clean = []\n",
    "        for k,v in bucket:\n",
    "            if k == key:\n",
    "                bucket_to_clean += [(k,v)]\n",
    "                \n",
    "        for k,v in bucket_to_clean :\n",
    "            bucket.remove((k,v))\n",
    "                                \n",
    "        #bucket.clear() \n",
    "        # we do not wanna do this as it would remove all elements in the\n",
    "        # bucket aka all keys for which key%length are equal to the same number"
   ]
  },
  {
   "cell_type": "markdown",
   "metadata": {},
   "source": [
    "### 2. Test example\n",
    "\n",
    "After code completion, you should be able to run this test."
   ]
  },
  {
   "cell_type": "code",
   "execution_count": 11,
   "metadata": {},
   "outputs": [
    {
     "name": "stdout",
     "output_type": "stream",
     "text": [
      "After insertion, the hash table looks like:\n",
      "[[], [], [], [(25, 'record_id_0004')], [], [], [], [(40, 'record_id_0005')], [(30, 'record_id_0006')], [(20, 'record_id_0001'), (20, 'record_id_0002'), (20, 'record_id_0008'), (20, 'record_id_0003'), (31, 'record_id_0007')], []]\n",
      "\n",
      "After deletion, the hash table looks like:\n",
      "[[], [], [], [(25, 'record_id_0004')], [], [], [], [(40, 'record_id_0005')], [(30, 'record_id_0006')], [(31, 'record_id_0007')], []]\n",
      "\n",
      "When we search with key = 20, we get [(31, 'record_id_0007')]\n",
      "When we search with key = 25, we get [(25, 'record_id_0004')]\n",
      "When we search with key = 30, we get [(30, 'record_id_0006')]\n"
     ]
    }
   ],
   "source": [
    "# Create a hash table\n",
    "table_size = 11\n",
    "H = HashTable(table_size)\n",
    "\n",
    "# Insert pairs of key and record id into the hash table\n",
    "H.set(20, 'record_id_0001')\n",
    "H.set(20, 'record_id_0002')\n",
    "H.set(20, 'record_id_0008')\n",
    "H.set(20, 'record_id_0003')\n",
    "H.set(25, 'record_id_0004')\n",
    "H.set(40, 'record_id_0005')\n",
    "H.set(30, 'record_id_0006')\n",
    "H.set(31, 'record_id_0007')\n",
    "\n",
    "# Print the hash table \n",
    "print('After insertion, the hash table looks like:')\n",
    "print(H.table)\n",
    "print('')\n",
    "\n",
    "# Delete a key\n",
    "H.remove(20)\n",
    "\n",
    "# Print the hash table \n",
    "print('After deletion, the hash table looks like:')\n",
    "print(H.table)\n",
    "print('')\n",
    "\n",
    "# Search for keys\n",
    "print('When we search with key = 20, we get', H.get(20))\n",
    "print('When we search with key = 25, we get', H.get(25))\n",
    "print('When we search with key = 30, we get', H.get(30))"
   ]
  },
  {
   "cell_type": "markdown",
   "metadata": {},
   "source": [
    "### 3. Challenge yourself\n",
    "\n",
    "In the previous code, we implement a hash function for integers. Would you be able to also design a hash function for strings according to the following equation?\n",
    "\n",
    "$h(x) = (x[0] * 37^{L-1} + x[1] * 37^{L-2} + x[2] * 37^{L-3} + \\cdots + x[L-1]) \\mod TableSize$\n",
    "\n",
    "where $x$ denotes the string and $L$ denotes the string length."
   ]
  },
  {
   "cell_type": "code",
   "execution_count": 18,
   "metadata": {},
   "outputs": [],
   "source": [
    "# Hash function for strings\n",
    "def hash_func_str(key):\n",
    "    l = 11 #table size\n",
    "    # Complete code\n",
    "    hash_code = 0\n",
    "    for i in range(0,len(key)):\n",
    "        hash_code = hash_code + ord(key[i])*37^(l-i+1)\n",
    "        \n",
    "    hash_code = hash_code%11\n",
    "    return hash_code"
   ]
  },
  {
   "cell_type": "markdown",
   "metadata": {},
   "source": [
    "After code completion, you should be able to run this test."
   ]
  },
  {
   "cell_type": "code",
   "execution_count": 19,
   "metadata": {},
   "outputs": [
    {
     "name": "stdout",
     "output_type": "stream",
     "text": [
      "Adam -> 6\n",
      "Achilles -> 5\n",
      "Helen -> 4\n",
      "Hello, world! -> 8\n"
     ]
    }
   ],
   "source": [
    "for s in ['Adam', 'Achilles', 'Helen', 'Hello, world!']:\n",
    "    print('{0} -> {1}'.format(s, hash_func_str(s)))"
   ]
  },
  {
   "cell_type": "code",
   "execution_count": null,
   "metadata": {},
   "outputs": [],
   "source": []
  }
 ],
 "metadata": {
  "kernelspec": {
   "display_name": "Python 3",
   "language": "python",
   "name": "python3"
  },
  "language_info": {
   "codemirror_mode": {
    "name": "ipython",
    "version": 3
   },
   "file_extension": ".py",
   "mimetype": "text/x-python",
   "name": "python",
   "nbconvert_exporter": "python",
   "pygments_lexer": "ipython3",
   "version": "3.7.1"
  }
 },
 "nbformat": 4,
 "nbformat_minor": 4
}
